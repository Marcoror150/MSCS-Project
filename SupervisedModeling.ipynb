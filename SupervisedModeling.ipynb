{
 "cells": [
  {
   "cell_type": "markdown",
   "metadata": {},
   "source": [
    "# Supervised Modeling"
   ]
  },
  {
   "cell_type": "code",
   "execution_count": 3,
   "metadata": {},
   "outputs": [],
   "source": [
    "import numpy as np\n",
    "import csv\n",
    "import matplotlib.pyplot as plt\n",
    "from scipy.stats import mode\n",
    "\n",
    "from io import StringIO\n",
    "import requests\n",
    "import json\n",
    "import pandas as pd\n",
    "\n",
    "import random"
   ]
  },
  {
   "cell_type": "code",
   "execution_count": 4,
   "metadata": {},
   "outputs": [
    {
     "name": "stderr",
     "output_type": "stream",
     "text": [
      "c:\\users\\mulic\\.virtualenvs\\mscs-project-hxj6hwao\\lib\\site-packages\\IPython\\core\\interactiveshell.py:3058: DtypeWarning: Columns (36,37,102) have mixed types. Specify dtype option on import or set low_memory=False.\n",
      "  interactivity=interactivity, compiler=compiler, result=result)\n",
      "c:\\users\\mulic\\.virtualenvs\\mscs-project-hxj6hwao\\lib\\site-packages\\IPython\\core\\interactiveshell.py:3058: DtypeWarning: Columns (101,102) have mixed types. Specify dtype option on import or set low_memory=False.\n",
      "  interactivity=interactivity, compiler=compiler, result=result)\n"
     ]
    },
    {
     "name": "stdout",
     "output_type": "stream",
     "text": [
      "ST_CASE     0\n",
      "MAKE        0\n",
      "MODEL       0\n",
      "MOD_YEAR    0\n",
      "MAK_MOD     0\n",
      "dtype: int64\n",
      "STATE      0\n",
      "ST_CASE    0\n",
      "FATALS     0\n",
      "dtype: int64\n"
     ]
    }
   ],
   "source": [
    "years = [\"2015\", \"2016\", \"2017\"]\n",
    "vehiclesToKeep = [\"ST_CASE\", \"MAKE\", \"MODEL\", \"MOD_YEAR\", \"MAK_MOD\"]\n",
    "accidentsToKeep = [\"STATE\", \"ST_CASE\", \"FATALS\"]\n",
    "\n",
    "dframes_acc = []\n",
    "dframes_veh = []\n",
    "\n",
    "for year in years:\n",
    "    df_accidents = pd.read_csv(\"Data/\"+year+\"/ACCIDENT.csv\")\n",
    "    df_vehicles = pd.read_csv(\"Data/\"+year+\"/VEHICLE.csv\")\n",
    "    df_vehicles_copy = df_vehicles[vehiclesToKeep]\n",
    "    df_accidents_copy = df_accidents[accidentsToKeep]\n",
    "    dframes_acc.append(df_accidents_copy)\n",
    "    dframes_veh.append(df_vehicles_copy)\n",
    "\n",
    "df_vehicles = pd.concat(dframes_veh).sample(frac=1)\n",
    "df_accidents = pd.concat(dframes_acc).sample(frac=1)\n",
    "    \n",
    "#Find blank or whitespace\n",
    "df_accidents = df_accidents.replace(r'\\s+\\t+', np.nan, regex=True).replace('', np.nan)\n",
    "df_vehicles = df_vehicles.replace(r'\\s+\\t+', np.nan, regex=True).replace('', np.nan)\n",
    "\n",
    "\n",
    "print(df_vehicles.isnull().sum())\n",
    "\n",
    "#Find blank or whitespace\n",
    "print(df_accidents.isnull().sum())"
   ]
  },
  {
   "cell_type": "code",
   "execution_count": 5,
   "metadata": {},
   "outputs": [
    {
     "name": "stdout",
     "output_type": "stream",
     "text": [
      "ST_CASE 34560\n",
      "MAKE 67\n",
      "MODEL 127\n",
      "MOD_YEAR 78\n",
      "MAK_MOD 885\n"
     ]
    }
   ],
   "source": [
    "#How many unique values?\n",
    "for column in df_vehicles_copy:\n",
    "    print(column, len(df_vehicles_copy[column].unique()))"
   ]
  },
  {
   "cell_type": "code",
   "execution_count": 6,
   "metadata": {},
   "outputs": [
    {
     "name": "stdout",
     "output_type": "stream",
     "text": [
      "STATE 51\n",
      "ST_CASE 34560\n",
      "FATALS 7\n"
     ]
    }
   ],
   "source": [
    "#How many unique values?\n",
    "for column in df_accidents_copy:\n",
    "    print(column, len(df_accidents_copy[column].unique()))"
   ]
  },
  {
   "cell_type": "code",
   "execution_count": 7,
   "metadata": {},
   "outputs": [
    {
     "name": "stdout",
     "output_type": "stream",
     "text": [
      "447731\n"
     ]
    }
   ],
   "source": [
    "df_merge = pd.merge(df_accidents, df_vehicles, on=\"ST_CASE\")\n",
    "print(len(df_merge))\n",
    "# Find the outliers / unknown values\n",
    "df_merge = df_merge.loc[(df_merge[\"MAKE\"] != 97) & \n",
    "                        (df_merge[\"MAKE\"] != 98) & \n",
    "                        (df_merge[\"MAKE\"] != 99) & \n",
    "                        (df_merge[\"MODEL\"] != 999)]\n",
    "df_merge['MULTI_FATAL'] = np.where(df_merge['FATALS']>1, 1, 0)"
   ]
  },
  {
   "cell_type": "code",
   "execution_count": 56,
   "metadata": {},
   "outputs": [
    {
     "name": "stdout",
     "output_type": "stream",
     "text": [
      "30\n",
      "30\n",
      "0                    Motorcycles\n",
      "1                    Automobiles\n",
      "2         Med/Heavy Trucks - COE\n",
      "3                    Automobiles\n",
      "4                   Light Trucks\n",
      "                   ...          \n",
      "447726               Automobiles\n",
      "447727               Automobiles\n",
      "447728               Automobiles\n",
      "447729              Light Trucks\n",
      "447730               Automobiles\n",
      "Name: MODEL_TRANS, Length: 430530, dtype: object\n",
      "STATE          0\n",
      "ST_CASE        0\n",
      "FATALS         0\n",
      "MAKE           0\n",
      "MODEL          0\n",
      "MOD_YEAR       0\n",
      "MAK_MOD        0\n",
      "MULTI_FATAL    0\n",
      "MODEL_TRANS    0\n",
      "dtype: int64\n",
      "Empty DataFrame\n",
      "Columns: [STATE, ST_CASE, FATALS, MAKE, MODEL, MOD_YEAR, MAK_MOD, MULTI_FATAL, MODEL_TRANS]\n",
      "Index: []\n"
     ]
    }
   ],
   "source": [
    "#It is also possible to replace elements with an arbitrary value only when the condition \n",
    "#is satisfied or only when the condition is not satisfied.\n",
    "# If you pass the original ndarray to x and y, the original value is used as it is.\n",
    "model_conds = [(df_merge['MODEL'] >= 1) & (df_merge['MODEL'] <= 397),\n",
    "               df_merge['MODEL'] == 398,\n",
    "               df_merge['MODEL'] == 399,\n",
    "               (df_merge['MODEL'] >= 401) & (df_merge['MODEL'] <= 497),\n",
    "               df_merge['MODEL'] == 498,\n",
    "               df_merge['MODEL'] == 499,\n",
    "               df_merge['MODEL'] == 598,\n",
    "               df_merge['MODEL'] == 599,\n",
    "               (df_merge['MODEL'] >= 701) & (df_merge['MODEL'] <= 706),\n",
    "               df_merge['MODEL'] == 707,\n",
    "               df_merge['MODEL'] == 709,\n",
    "               (df_merge['MODEL'] >= 731) & (df_merge['MODEL'] <= 734),\n",
    "               df_merge['MODEL'] == 739,\n",
    "               df_merge['MODEL'] == 799,\n",
    "               (df_merge['MODEL'] >= 801) & (df_merge['MODEL'] <= 809),\n",
    "               df_merge['MODEL'] == 850,\n",
    "               df_merge['MODEL'] == 870,\n",
    "               df_merge['MODEL'] == 880,\n",
    "               df_merge['MODEL'] == 881,\n",
    "               df_merge['MODEL'] == 882,\n",
    "               df_merge['MODEL'] == 883,\n",
    "               df_merge['MODEL'] == 884,\n",
    "               df_merge['MODEL'] == 890,\n",
    "               df_merge['MODEL'] == 898,\n",
    "               (df_merge['MODEL'] >= 901) & (df_merge['MODEL'] <= 908),\n",
    "               (df_merge['MODEL'] >= 981) & (df_merge['MODEL'] <= 987),\n",
    "               df_merge['MODEL'] == 988,\n",
    "               df_merge['MODEL'] == 989,\n",
    "               df_merge['MODEL'] == 997,\n",
    "               df_merge['MODEL'] == 998]\n",
    "model_out = [\"Automobiles\",\n",
    "            \"Other(Autos)\",\n",
    "            \"Unknown (Autos)\",\n",
    "            \"Light Trucks\",\n",
    "            \"Other (Light Trucks)\",\n",
    "            \"Unknown (LT)\",\n",
    "            \"Other (LSV or NEV)\",\n",
    "            \"Unknown (LSV OR NEV)\",\n",
    "            \"Motorcycles\",\n",
    "            \"Electric Motorcycle\",\n",
    "            \"Unknown cc (Motorcycles)\",\n",
    "            \"All-Terrain Vehicles\",\n",
    "            \"Unknown cc (ATV)\"\n",
    "            \"Unkown (motored cycle)\",\n",
    "            \"Other Make (Med/Heavy Trucks)\",\n",
    "            \"Motor Home\",\n",
    "            \"Med/Heavy Van-Based Vehicle\",\n",
    "            \"Med/Heavy Pickup\",\n",
    "            \"Med/Heavy Trucks - CBE\",\n",
    "            \"Med/Heavy Trucks - COE\",\n",
    "            \"Med/Heavy Trucks - COE (low entry)\",\n",
    "            \"Med/Heavy Trucks - COE (high entry)\",\n",
    "            \"Med/Heavy Trucks - Unknown engine location\",\n",
    "            \"Med/Heavy Trucks - COE (entry position unknown)\",\n",
    "            \"Other (Med/Heavy Trucks)\",\n",
    "            \"Other Make (Buses)\",\n",
    "            \"Buses\",\n",
    "            \"Other (Bus)\",\n",
    "            \"Unknown (Bus)\",\n",
    "            \"Not Reported\",\n",
    "            \"Other (Vehicle)\"]\n",
    "# model_out = [\n",
    "# 0,\n",
    "# 1,\n",
    "# 2,\n",
    "# 3,\n",
    "# 4,\n",
    "# 5,\n",
    "# 6,\n",
    "# 7,\n",
    "# 8,\n",
    "# 9,\n",
    "# 10,\n",
    "# 11,\n",
    "# 12,\n",
    "# 13,\n",
    "# 14,\n",
    "# 15,\n",
    "# 16,\n",
    "# 17,\n",
    "# 18,\n",
    "# 19,\n",
    "# 20,\n",
    "# 21,\n",
    "# 22,\n",
    "# 23,\n",
    "# 24,\n",
    "# 25,\n",
    "# 26,\n",
    "# 27,\n",
    "# 28,\n",
    "# 29,\n",
    "# 30\n",
    "# ]\n",
    "\n",
    "print(len(model_conds))\n",
    "print(len(model_out))\n",
    "\n",
    "df_merge[\"MODEL_TRANS\"] = np.select(model_conds, model_out, default=np.nan)\n",
    "print(df_merge[\"MODEL_TRANS\"])\n",
    "\n",
    "print(df_merge.isnull().sum())\n",
    "print(df_merge.loc[df_merge[\"MODEL_TRANS\"].isin([np.nan])])"
   ]
  },
  {
   "cell_type": "code",
   "execution_count": 38,
   "metadata": {},
   "outputs": [
    {
     "data": {
      "image/png": "[encoded data removed]",
      "text/plain": [
       "<Figure size 432x288 with 1 Axes>"
      ]
     },
     "metadata": {
      "needs_background": "light"
     },
     "output_type": "display_data"
    },
    {
     "data": {
      "image/png": "[encoded data removed]",
      "text/plain": [
       "<Figure size 432x288 with 1 Axes>"
      ]
     },
     "metadata": {
      "needs_background": "light"
     },
     "output_type": "display_data"
    },
    {
     "data": {
      "image/png": "[encoded data removed]",
      "text/plain": [
       "<Figure size 432x288 with 1 Axes>"
      ]
     },
     "metadata": {
      "needs_background": "light"
     },
     "output_type": "display_data"
    },
    {
     "data": {
      "image/png": "[encoded data removed]",
      "text/plain": [
       "<Figure size 432x288 with 1 Axes>"
      ]
     },
     "metadata": {
      "needs_background": "light"
     },
     "output_type": "display_data"
    },
    {
     "data": {
      "image/png": "[encoded data removed]",
      "text/plain": [
       "<Figure size 432x288 with 1 Axes>"
      ]
     },
     "metadata": {
      "needs_background": "light"
     },
     "output_type": "display_data"
    },
    {
     "data": {
      "image/png": "[encoded data removed]",
      "text/plain": [
       "<Figure size 432x288 with 1 Axes>"
      ]
     },
     "metadata": {
      "needs_background": "light"
     },
     "output_type": "display_data"
    },
    {
     "data": {
      "image/png": "[encoded data removed]",
      "text/plain": [
       "<Figure size 432x288 with 1 Axes>"
      ]
     },
     "metadata": {
      "needs_background": "light"
     },
     "output_type": "display_data"
    },
    {
     "data": {
      "image/png": "[encoded data removed]",
      "text/plain": [
       "<Figure size 432x288 with 1 Axes>"
      ]
     },
     "metadata": {
      "needs_background": "light"
     },
     "output_type": "display_data"
    },
    {
     "data": {
      "image/png": "[encoded data removed]",
      "text/plain": [
       "<Figure size 432x288 with 1 Axes>"
      ]
     },
     "metadata": {
      "needs_background": "light"
     },
     "output_type": "display_data"
    }
   ],
   "source": [
    "#Lets look at a historgram of each\n",
    "import matplotlib.pyplot as plt\n",
    "%matplotlib inline\n",
    "for col in df_merge:\n",
    "    df_merge.hist(column=col)"
   ]
  },
  {
   "cell_type": "code",
   "execution_count": 47,
   "metadata": {},
   "outputs": [
    {
     "data": {
      "text/plain": [
       "STATE           object\n",
       "ST_CASE         object\n",
       "FATALS           int64\n",
       "MAKE            object\n",
       "MODEL           object\n",
       "MOD_YEAR         int64\n",
       "MAK_MOD          int64\n",
       "MULTI_FATAL      int64\n",
       "MODEL_TRANS    float64\n",
       "dtype: object"
      ]
     },
     "execution_count": 47,
     "metadata": {},
     "output_type": "execute_result"
    }
   ],
   "source": [
    "df_merge.astype({'STATE':'str', 'ST_CASE':'str', 'MAKE':'str', 'MODEL':'str'}).dtypes"
   ]
  },
  {
   "cell_type": "code",
   "execution_count": 48,
   "metadata": {},
   "outputs": [
    {
     "name": "stdout",
     "output_type": "stream",
     "text": [
      "397111\n",
      "33419\n",
      "33419\n"
     ]
    }
   ],
   "source": [
    "df_merge_1fatal = df_merge.loc[df_merge['MULTI_FATAL'] == False]\n",
    "print(len(df_merge_1fatal))\n",
    "df_merge_Nfatal = df_merge.loc[df_merge['MULTI_FATAL'] == True]\n",
    "print(len(df_merge_Nfatal))\n",
    "\n",
    "df_merge_1fatal_sample = df_merge_1fatal.sample(n=len(df_merge_Nfatal), replace=False)\n",
    "print(len(df_merge_1fatal_sample))"
   ]
  },
  {
   "cell_type": "code",
   "execution_count": 49,
   "metadata": {},
   "outputs": [
    {
     "name": "stdout",
     "output_type": "stream",
     "text": [
      "        STATE  ST_CASE  FATALS  MAKE  MODEL  MOD_YEAR  MAK_MOD  MULTI_FATAL  \\\n",
      "71299       6    61917       3    30     40      1997    30040         True   \n",
      "272145     42   420178       1    12     23      2007    12023        False   \n",
      "369444      8    80136       3    37     32      2012    37032         True   \n",
      "143910     34   340244       2    12     23      2009    12023         True   \n",
      "187256     22   220611       1    20    498      1977    20498        False   \n",
      "\n",
      "        MODEL_TRANS  \n",
      "71299           0.0  \n",
      "272145          0.0  \n",
      "369444          0.0  \n",
      "143910          0.0  \n",
      "187256          4.0  \n",
      "66838\n"
     ]
    }
   ],
   "source": [
    "df_merge_1fatal_sample_rebrand = df_merge_1fatal_sample.copy()\n",
    "df_merge_1fatal_sample_rebrand['MULTI_FATAL'] = False\n",
    "\n",
    "df_merge_Nfatal_rebrand = df_merge_Nfatal.copy()\n",
    "df_merge_Nfatal_rebrand['MULTI_FATAL'] = True\n",
    "\n",
    "frames = [df_merge_Nfatal_rebrand, df_merge_1fatal_sample_rebrand]\n",
    "\n",
    "df_merge_concat = pd.concat(frames).sample(frac=1)\n",
    "print(df_merge_concat.head())\n",
    "print(len(df_merge_concat))"
   ]
  },
  {
   "cell_type": "code",
   "execution_count": null,
   "metadata": {},
   "outputs": [],
   "source": [
    "## Address the 9999 unknown values"
   ]
  },
  {
   "cell_type": "code",
   "execution_count": 10,
   "metadata": {},
   "outputs": [
    {
     "name": "stdout",
     "output_type": "stream",
     "text": [
      "[[4825 5471]\n",
      " [4468 5634]]\n",
      "              precision    recall  f1-score   support\n",
      "\n",
      "       False       0.52      0.47      0.49     10296\n",
      "        True       0.51      0.56      0.53     10102\n",
      "\n",
      "    accuracy                           0.51     20398\n",
      "   macro avg       0.51      0.51      0.51     20398\n",
      "weighted avg       0.51      0.51      0.51     20398\n",
      "\n",
      "Accuracy: 0.5127463476811452\n"
     ]
    }
   ],
   "source": [
    "# - https://stackabuse.com/implementing-svm-and-kernel-svm-with-pythons-scikit-learn/\n",
    "# Try and use an SVM# Import train_test_split function\n",
    "from sklearn.model_selection import train_test_split\n",
    "\n",
    "X=df_merge_concat[['MAKE', 'MODEL', 'MOD_YEAR']]  # Features\n",
    "y=df_merge_concat['MULTI_FATAL']  # Labels\n",
    "\n",
    "# Split dataset into training set and test set\n",
    "X_train, X_test, y_train, y_test = train_test_split(X, y, test_size=0.3) # 70% training and 30% test\n",
    "\n",
    "from sklearn.svm import SVC\n",
    "svclassifier = SVC(kernel='linear')\n",
    "\n",
    "#Train the model using the training sets y_pred=clf.predict(X_test)\n",
    "svclassifier.fit(X_train, y_train)\n",
    "\n",
    "y_pred = svclassifier.predict(X_test)\n",
    "\n",
    "from sklearn.metrics import classification_report, confusion_matrix, accuracy_score\n",
    "print(confusion_matrix(y_test,y_pred))\n",
    "print(classification_report(y_test,y_pred))\n",
    "print(\"Accuracy:\",accuracy_score(y_test, y_pred))"
   ]
  },
  {
   "cell_type": "code",
   "execution_count": 45,
   "metadata": {},
   "outputs": [],
   "source": [
    "###    Today: Work on SVM\n",
    "###    Change year to num again ---------\n",
    "###    Deal with 9999 unknowns"
   ]
  },
  {
   "cell_type": "code",
   "execution_count": 24,
   "metadata": {},
   "outputs": [
    {
     "name": "stdout",
     "output_type": "stream",
     "text": [
      "[[25436    13]\n",
      " [ 8541     6]]\n",
      "              precision    recall  f1-score   support\n",
      "\n",
      "       False       0.75      1.00      0.86     25449\n",
      "        True       0.32      0.00      0.00      8547\n",
      "\n",
      "    accuracy                           0.75     33996\n",
      "   macro avg       0.53      0.50      0.43     33996\n",
      "weighted avg       0.64      0.75      0.64     33996\n",
      "\n",
      "Accuracy: 0.7483821626073656\n"
     ]
    }
   ],
   "source": [
    "# - https://stackabuse.com/implementing-svm-and-kernel-svm-with-pythons-scikit-learn/\n",
    "# Try and use an SVM# Import train_test_split function\n",
    "from sklearn.model_selection import train_test_split\n",
    "\n",
    "X=df_merge_concat[['MAKE', 'MODEL', 'MOD_YEAR']]  # Features\n",
    "y=df_merge_concat['MULTI_FATAL']  # Labels\n",
    "\n",
    "# Split dataset into training set and test set\n",
    "X_train, X_test, y_train, y_test = train_test_split(X, y, test_size=0.25) # 80% training and 20% test\n",
    "\n",
    "from sklearn.svm import SVC\n",
    "svclassifier = SVC(kernel='linear')\n",
    "\n",
    "#Train the model using the training sets y_pred=clf.predict(X_test)\n",
    "svclassifier.fit(X_train, y_train)\n",
    "\n",
    "y_pred = svclassifier.predict(X_test)\n",
    "\n",
    "from sklearn.metrics import classification_report, confusion_matrix, accuracy_score\n",
    "print(confusion_matrix(y_test,y_pred))\n",
    "print(classification_report(y_test,y_pred))\n",
    "print(\"Accuracy:\",accuracy_score(y_test, y_pred))"
   ]
  },
  {
   "cell_type": "code",
   "execution_count": 1,
   "metadata": {},
   "outputs": [],
   "source": [
    "# https://stackabuse.com/scikit-learn-save-and-restore-models/\n",
    "# https://scikit-learn.org/stable/modules/preprocessing.html#encoding-categorical-features"
   ]
  },
  {
   "cell_type": "code",
   "execution_count": 50,
   "metadata": {},
   "outputs": [
    {
     "name": "stdout",
     "output_type": "stream",
     "text": [
      "[[4481 5519]\n",
      " [4594 5458]]\n",
      "              precision    recall  f1-score   support\n",
      "\n",
      "       False       0.49      0.45      0.47     10000\n",
      "        True       0.50      0.54      0.52     10052\n",
      "\n",
      "    accuracy                           0.50     20052\n",
      "   macro avg       0.50      0.50      0.49     20052\n",
      "weighted avg       0.50      0.50      0.49     20052\n",
      "\n",
      "Accuracy: 0.49566128067025733\n"
     ]
    }
   ],
   "source": [
    "# What happens if we don't recode make and model as strings? This is a litmus test for recoding categoricals\n",
    "from sklearn.model_selection import train_test_split\n",
    "\n",
    "X=df_merge_concat[['MAKE', 'MODEL_TRANS', 'MOD_YEAR']]  # Features\n",
    "y=df_merge_concat['MULTI_FATAL']  # Labels\n",
    "\n",
    "# Split dataset into training set and test set\n",
    "X_train, X_test, y_train, y_test = train_test_split(X, y, test_size=0.3) # 70% training and 30% test\n",
    "\n",
    "from sklearn.svm import SVC\n",
    "svclassifier = SVC(kernel='linear', C=2.0)\n",
    "# from sklearn.svm import LinearSVC\n",
    "# svclassifier = LinearSVC()\n",
    "\n",
    "\n",
    "#Train the model using the training sets y_pred=clf.predict(X_test)\n",
    "svclassifier.fit(X_train, y_train)\n",
    "\n",
    "y_pred = svclassifier.predict(X_test)\n",
    "\n",
    "from sklearn.metrics import classification_report, confusion_matrix, accuracy_score\n",
    "print(confusion_matrix(y_test,y_pred))\n",
    "print(classification_report(y_test,y_pred))\n",
    "print(\"Accuracy:\",accuracy_score(y_test, y_pred))"
   ]
  },
  {
   "cell_type": "code",
   "execution_count": 21,
   "metadata": {},
   "outputs": [
    {
     "name": "stdout",
     "output_type": "stream",
     "text": [
      "[[5038 5197]\n",
      " [5283 4880]]\n",
      "              precision    recall  f1-score   support\n",
      "\n",
      "       False       0.49      0.49      0.49     10235\n",
      "        True       0.48      0.48      0.48     10163\n",
      "\n",
      "    accuracy                           0.49     20398\n",
      "   macro avg       0.49      0.49      0.49     20398\n",
      "weighted avg       0.49      0.49      0.49     20398\n",
      "\n",
      "Accuracy: 0.48622413962153155\n"
     ]
    }
   ],
   "source": [
    "# Attempting to use OneHotEncoder\n",
    "# https://scikit-learn.org/stable/modules/preprocessing.html#encoding-categorical-features\n",
    "from sklearn.model_selection import train_test_split\n",
    "\n",
    "X=df_merge_concat[['MAKE', 'MOD_YEAR']]  # Features\n",
    "y=df_merge_concat['MULTI_FATAL']  # Labels\n",
    "\n",
    "# Make and encode our make and model data\n",
    "#   Once the data is completely translated with models we gotta do an ordinalEncoder to rebrand it\n",
    "# from sklearn.preprocessing import OneHotEncoder\n",
    "# makeEnc = OneHotEncoder()\n",
    "# makeEnc.fit(X)\n",
    "\n",
    "# Split dataset into training set and test set\n",
    "X_train, X_test, y_train, y_test = train_test_split(X, y, test_size=0.3) # 70% training and 30% test\n",
    "\n",
    "from sklearn.svm import SVC\n",
    "svclassifier = SVC(kernel='linear')\n",
    "\n",
    "#Train the model using the training sets y_pred=clf.predict(X_test)\n",
    "svclassifier.fit(X_train, y_train)\n",
    "\n",
    "y_pred = svclassifier.predict(X_test)\n",
    "\n",
    "from sklearn.metrics import classification_report, confusion_matrix, accuracy_score\n",
    "print(confusion_matrix(y_test,y_pred))\n",
    "print(classification_report(y_test,y_pred))\n",
    "print(\"Accuracy:\",accuracy_score(y_test, y_pred))"
   ]
  },
  {
   "cell_type": "code",
   "execution_count": null,
   "metadata": {},
   "outputs": [],
   "source": [
    "make_numbers = {\n",
    "    1:\"American Motors\",\n",
    "    2:\"Jeep/Kaiser-Jeep/Willys Jeep\",\n",
    "    3:\"AM General\",\n",
    "    6:\"Chrysler\",\n",
    "    7:\"Dodge\",\n",
    "    8:\"Imperial\",\n",
    "    9:\"Plymouth\",\n",
    "    10:\"Eagle\",\n",
    "    12:\"Ford\",\n",
    "    13:\"Lincoln\",\n",
    "    14:\"Mercury\",\n",
    "    18:\"Buick/Opel\",\n",
    "    19:\"Cadillac\",\n",
    "    20:\"Chevrolet\",\n",
    "    21:\"Oldsmobile\",\n",
    "    22:\"Pontiac\",\n",
    "    23:\"GMC\",\n",
    "    24:\"Saturn\",\n",
    "    25:\"Grumman\",\n",
    "    26:\"Coda\",\n",
    "    29:\"Other Domestic\",\n",
    "    30:\"Volkswagon\",\n",
    "    31:\"Alfa Romeo\",\n",
    "    32:\"Audi\",\n",
    "    33:\"Austin/Austin-Healey\",\n",
    "    34:\"BMW\",\n",
    "    35:\"Datsun/Nissan\",\n",
    "    36:\"Fiat\",\n",
    "    37:\"Honda\",\n",
    "    38:\"Isuzu\",\n",
    "    39:\"Jaguar\",\n",
    "    40:\"Lancia\",\n",
    "    41:\"Mazda\",\n",
    "    42:\"Mercedes-Benz\",\n",
    "    43:\"MG\",\n",
    "    44:\"Peugeot\",\n",
    "    45:\"Porsche\",\n",
    "    46:\"Renault\",\n",
    "    47:\"Saab\",\n",
    "    48:\"Subaru\",\n",
    "    49:\"Toyota\",\n",
    "    50:\"Triumph\",\n",
    "    51:\"Volvo\",\n",
    "    52:\"Mitsubishi\",\n",
    "    53:\"Suzuki\",\n",
    "    54:\"Acura\",\n",
    "    55:\"Hyundai\",\n",
    "    56:\"Merkur\",\n",
    "    57:\"Yugo\",\n",
    "    58:\"Infiniti\",\n",
    "    59:\"Lexus\",\n",
    "    60:\"Daihatsu\",\n",
    "    62:\"Land Rover\",\n",
    "    63:\"Kia\",\n",
    "    64:\"Daewoo\",\n",
    "    65:\"Smart\",\n",
    "    66:\"Mahindra\",\n",
    "    67:\"Scion\",\n",
    "    69:\"Other Imports\",\n",
    "    70:\"BSA\",\n",
    "    71:\"Ducati\",\n",
    "    72:\"Harley-Davidson\",\n",
    "    73:\"Kawasaki\",\n",
    "    74:\"Moto Guzzi\",\n",
    "    75:\"Norton\",\n",
    "    76:\"Yamaha\",\n",
    "    77:\"Victory\",\n",
    "    78:\"Other Make Moped\",\n",
    "    79:\"Other Make Motored Cycle\",\n",
    "    80:\"Brockway\",\n",
    "    81:\"Diamond Reo/Reo\",\n",
    "    82:\"Freightliner\",\n",
    "    83:\"FWD\",\n",
    "    84:\"International Harvester/Navistar\",\n",
    "    85:\"Kenworth\",\n",
    "    86:\"Mack\",\n",
    "    87:\"Peterbilt\",\n",
    "    88:\"Iveco/Magirus\",\n",
    "    89:\"White/Autocar, White/GMC\",\n",
    "    90:\"Bluebird\",\n",
    "    91:\"Eagle Coach\",\n",
    "    92:\"Gillig\",\n",
    "    93:\"MCI\",\n",
    "    94:\"Thomas Built\",\n",
    "    97:\"Not Reported\",\n",
    "    98:\"Other Make\",\n",
    "    99:\"Unknown\"\n",
    "}\n",
    "\n",
    "#print(sorted(df_merge[\"MAKE\"].unique()))\n",
    "make_list = []\n",
    "make_dict = {}\n",
    "make_list.append(\"<datalist>\")\n",
    "for make in sorted(df_merge[\"MAKE\"].unique()):\n",
    "    make_list.append('<option value =\"' + str(make_numbers[make]) + '\">')\n",
    "    make_dict[make] = \"\"\n",
    "make_list.append(\"</datalist>\")\n",
    "# print(make_list)\n",
    "print(\"\\n\".join(make_list))\n",
    "print(make_dict)"
   ]
  },
  {
   "cell_type": "code",
   "execution_count": 57,
   "metadata": {
    "collapsed": true
   },
   "outputs": [
    {
     "name": "stdout",
     "output_type": "stream",
     "text": [
      "<datalist>\n",
      "<option value =\"All-Terrain Vehicles\">\n",
      "<option value =\"Automobiles\">\n",
      "<option value =\"Buses\">\n",
      "<option value =\"Light Trucks\">\n",
      "<option value =\"Med/Heavy Pickup\">\n",
      "<option value =\"Med/Heavy Trucks - CBE\">\n",
      "<option value =\"Med/Heavy Trucks - COE\">\n",
      "<option value =\"Med/Heavy Trucks - COE (entry position unknown)\">\n",
      "<option value =\"Med/Heavy Trucks - COE (high entry)\">\n",
      "<option value =\"Med/Heavy Trucks - COE (low entry)\">\n",
      "<option value =\"Med/Heavy Trucks - Unknown engine location\">\n",
      "<option value =\"Med/Heavy Van-Based Vehicle\">\n",
      "<option value =\"Motorcycles\">\n",
      "<option value =\"Other (Bus)\">\n",
      "<option value =\"Other (Light Trucks)\">\n",
      "<option value =\"Other (Med/Heavy Trucks)\">\n",
      "<option value =\"Other (Vehicle)\">\n",
      "<option value =\"Other Make (Med/Heavy Trucks)\">\n",
      "<option value =\"Other(Autos)\">\n",
      "<option value =\"Unknown (Autos)\">\n",
      "<option value =\"Unknown (Bus)\">\n",
      "<option value =\"Unknown (LT)\">\n",
      "<option value =\"Unknown cc (ATV)Unkown (motored cycle)\">\n",
      "<option value =\"Unknown cc (Motorcycles)\">\n",
      "</datalist>\n",
      "{'All-Terrain Vehicles': '', 'Automobiles': '', 'Buses': '', 'Light Trucks': '', 'Med/Heavy Pickup': '', 'Med/Heavy Trucks - CBE': '', 'Med/Heavy Trucks - COE': '', 'Med/Heavy Trucks - COE (entry position unknown)': '', 'Med/Heavy Trucks - COE (high entry)': '', 'Med/Heavy Trucks - COE (low entry)': '', 'Med/Heavy Trucks - Unknown engine location': '', 'Med/Heavy Van-Based Vehicle': '', 'Motorcycles': '', 'Other (Bus)': '', 'Other (Light Trucks)': '', 'Other (Med/Heavy Trucks)': '', 'Other (Vehicle)': '', 'Other Make (Med/Heavy Trucks)': '', 'Other(Autos)': '', 'Unknown (Autos)': '', 'Unknown (Bus)': '', 'Unknown (LT)': '', 'Unknown cc (ATV)Unkown (motored cycle)': '', 'Unknown cc (Motorcycles)': ''}\n"
     ]
    }
   ],
   "source": [
    "#print(sorted(df_merge[\"MAKE\"].unique()))\n",
    "model_list = []\n",
    "model_dict = {}\n",
    "model_list.append(\"<datalist>\")\n",
    "for model in sorted(df_merge[\"MODEL_TRANS\"].unique()):\n",
    "    model_list.append('<option value =\"' + str(model) + '\">')\n",
    "    model_dict[model] = \"\"\n",
    "model_list.append(\"</datalist>\")\n",
    "# print(make_list)\n",
    "print(\"\\n\".join(model_list))\n",
    "print(model_dict)"
   ]
  },
  {
   "cell_type": "code",
   "execution_count": null,
   "metadata": {},
   "outputs": [],
   "source": [
    "print(\"[\")\n",
    "for i in range(30):\n",
    "    print(str(i) + \",\")\n",
    "print(\"]\")"
   ]
  },
  {
   "cell_type": "code",
   "execution_count": null,
   "metadata": {},
   "outputs": [],
   "source": []
  }
 ],
 "metadata": {
  "kernelspec": {
   "display_name": "Python 3",
   "language": "python",
   "name": "python3"
  },
  "language_info": {
   "codemirror_mode": {
    "name": "ipython",
    "version": 3
   },
   "file_extension": ".py",
   "mimetype": "text/x-python",
   "name": "python",
   "nbconvert_exporter": "python",
   "pygments_lexer": "ipython3",
   "version": "3.7.4"
  }
 },
 "nbformat": 4,
 "nbformat_minor": 2
}
