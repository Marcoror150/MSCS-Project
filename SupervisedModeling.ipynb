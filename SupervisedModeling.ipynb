{
 "cells": [
  {
   "cell_type": "markdown",
   "metadata": {},
   "source": [
    "# Supervised Modeling"
   ]
  },
  {
   "cell_type": "code",
   "execution_count": 1,
   "metadata": {},
   "outputs": [
    {
     "name": "stderr",
     "output_type": "stream",
     "text": [
      "c:\\users\\mulic\\.virtualenvs\\mscs-project-idlnp3ap\\lib\\site-packages\\sklearn\\externals\\joblib\\__init__.py:15: FutureWarning: sklearn.externals.joblib is deprecated in 0.21 and will be removed in 0.23. Please import this functionality directly from joblib, which can be installed with: pip install joblib. If this warning is raised when loading pickled models, you may need to re-serialize those models with scikit-learn 0.21+.\n",
      "  warnings.warn(msg, category=FutureWarning)\n"
     ]
    }
   ],
   "source": [
    "import numpy as np\n",
    "import csv\n",
    "import matplotlib.pyplot as plt\n",
    "from scipy.stats import mode\n",
    "from sklearn.externals import joblib\n",
    "\n",
    "from io import StringIO\n",
    "import requests\n",
    "import json\n",
    "import pandas as pd\n",
    "\n",
    "import random"
   ]
  },
  {
   "cell_type": "code",
   "execution_count": 2,
   "metadata": {},
   "outputs": [
    {
     "name": "stderr",
     "output_type": "stream",
     "text": [
      "c:\\users\\mulic\\.virtualenvs\\mscs-project-idlnp3ap\\lib\\site-packages\\IPython\\core\\interactiveshell.py:3058: DtypeWarning: Columns (36,37,102) have mixed types. Specify dtype option on import or set low_memory=False.\n",
      "  interactivity=interactivity, compiler=compiler, result=result)\n",
      "c:\\users\\mulic\\.virtualenvs\\mscs-project-idlnp3ap\\lib\\site-packages\\IPython\\core\\interactiveshell.py:3058: DtypeWarning: Columns (101,102) have mixed types. Specify dtype option on import or set low_memory=False.\n",
      "  interactivity=interactivity, compiler=compiler, result=result)\n"
     ]
    },
    {
     "name": "stdout",
     "output_type": "stream",
     "text": [
      "ST_CASE     0\n",
      "MAKE        0\n",
      "MODEL       0\n",
      "MOD_YEAR    0\n",
      "MAK_MOD     0\n",
      "dtype: int64\n",
      "STATE      0\n",
      "ST_CASE    0\n",
      "FATALS     0\n",
      "dtype: int64\n"
     ]
    }
   ],
   "source": [
    "years = [\"2015\", \"2016\", \"2017\"]\n",
    "vehiclesToKeep = [\"ST_CASE\", \"MAKE\", \"MODEL\", \"MOD_YEAR\", \"MAK_MOD\"]\n",
    "accidentsToKeep = [\"STATE\", \"ST_CASE\", \"FATALS\"]\n",
    "\n",
    "dframes_acc = []\n",
    "dframes_veh = []\n",
    "\n",
    "for year in years:\n",
    "    df_accidents = pd.read_csv(\"Data/\"+year+\"/ACCIDENT.csv\")\n",
    "    df_vehicles = pd.read_csv(\"Data/\"+year+\"/VEHICLE.csv\")\n",
    "    df_vehicles_copy = df_vehicles[vehiclesToKeep]\n",
    "    df_accidents_copy = df_accidents[accidentsToKeep]\n",
    "    dframes_acc.append(df_accidents_copy)\n",
    "    dframes_veh.append(df_vehicles_copy)\n",
    "\n",
    "df_vehicles = pd.concat(dframes_veh).sample(frac=1)\n",
    "df_accidents = pd.concat(dframes_acc).sample(frac=1)\n",
    "    \n",
    "#Find blank or whitespace\n",
    "df_accidents = df_accidents.replace(r'\\s+\\t+', np.nan, regex=True).replace('', np.nan)\n",
    "df_vehicles = df_vehicles.replace(r'\\s+\\t+', np.nan, regex=True).replace('', np.nan)\n",
    "\n",
    "\n",
    "print(df_vehicles.isnull().sum())\n",
    "\n",
    "#Find blank or whitespace\n",
    "print(df_accidents.isnull().sum())"
   ]
  },
  {
   "cell_type": "code",
   "execution_count": 3,
   "metadata": {},
   "outputs": [
    {
     "name": "stdout",
     "output_type": "stream",
     "text": [
      "ST_CASE 34560\n",
      "MAKE 67\n",
      "MODEL 127\n",
      "MOD_YEAR 78\n",
      "MAK_MOD 885\n"
     ]
    }
   ],
   "source": [
    "#How many unique values?\n",
    "for column in df_vehicles_copy:\n",
    "    print(column, len(df_vehicles_copy[column].unique()))"
   ]
  },
  {
   "cell_type": "code",
   "execution_count": 4,
   "metadata": {},
   "outputs": [
    {
     "name": "stdout",
     "output_type": "stream",
     "text": [
      "STATE 51\n",
      "ST_CASE 34560\n",
      "FATALS 7\n"
     ]
    }
   ],
   "source": [
    "#How many unique values?\n",
    "for column in df_accidents_copy:\n",
    "    print(column, len(df_accidents_copy[column].unique()))"
   ]
  },
  {
   "cell_type": "code",
   "execution_count": 4,
   "metadata": {},
   "outputs": [
    {
     "name": "stdout",
     "output_type": "stream",
     "text": [
      "447731\n"
     ]
    }
   ],
   "source": [
    "df_merge = pd.merge(df_accidents, df_vehicles, on=\"ST_CASE\")\n",
    "print(len(df_merge))\n",
    "# Find the outliers / unknown values\n",
    "df_merge = df_merge.loc[(df_merge[\"MAKE\"] != 97) & \n",
    "                        (df_merge[\"MAKE\"] != 98) & \n",
    "                        (df_merge[\"MAKE\"] != 99) & \n",
    "                        (df_merge[\"MODEL\"] != 999) &\n",
    "                        (df_merge[\"MOD_YEAR\"] != 9999)]\n",
    "df_merge['MULTI_FATAL'] = np.where(df_merge['FATALS']>1, 1, 0)"
   ]
  },
  {
   "cell_type": "code",
   "execution_count": 36,
   "metadata": {},
   "outputs": [
    {
     "name": "stdout",
     "output_type": "stream",
     "text": [
      "30\n",
      "30\n",
      "0          0.0\n",
      "1          3.0\n",
      "2          0.0\n",
      "3          3.0\n",
      "4          3.0\n",
      "          ... \n",
      "447726     3.0\n",
      "447727     4.0\n",
      "447728    23.0\n",
      "447729     3.0\n",
      "447730     0.0\n",
      "Name: MODEL_TRANS, Length: 429167, dtype: float64\n",
      "STATE          0\n",
      "ST_CASE        0\n",
      "FATALS         0\n",
      "MAKE           0\n",
      "MODEL          0\n",
      "MOD_YEAR       0\n",
      "MAK_MOD        0\n",
      "MULTI_FATAL    0\n",
      "MODEL_TRANS    0\n",
      "dtype: int64\n",
      "Empty DataFrame\n",
      "Columns: [STATE, ST_CASE, FATALS, MAKE, MODEL, MOD_YEAR, MAK_MOD, MULTI_FATAL, MODEL_TRANS]\n",
      "Index: []\n"
     ]
    }
   ],
   "source": [
    "#It is also possible to replace elements with an arbitrary value only when the condition \n",
    "#is satisfied or only when the condition is not satisfied.\n",
    "# If you pass the original ndarray to x and y, the original value is used as it is.\n",
    "model_conds = [(df_merge['MODEL'] >= 1) & (df_merge['MODEL'] <= 397),\n",
    "               df_merge['MODEL'] == 398,\n",
    "               df_merge['MODEL'] == 399,\n",
    "               (df_merge['MODEL'] >= 401) & (df_merge['MODEL'] <= 497),\n",
    "               df_merge['MODEL'] == 498,\n",
    "               df_merge['MODEL'] == 499,\n",
    "               df_merge['MODEL'] == 598,\n",
    "               df_merge['MODEL'] == 599,\n",
    "               (df_merge['MODEL'] >= 701) & (df_merge['MODEL'] <= 706),\n",
    "               df_merge['MODEL'] == 707,\n",
    "               df_merge['MODEL'] == 709,\n",
    "               (df_merge['MODEL'] >= 731) & (df_merge['MODEL'] <= 734),\n",
    "               df_merge['MODEL'] == 739,\n",
    "               df_merge['MODEL'] == 799,\n",
    "               (df_merge['MODEL'] >= 801) & (df_merge['MODEL'] <= 809),\n",
    "               df_merge['MODEL'] == 850,\n",
    "               df_merge['MODEL'] == 870,\n",
    "               df_merge['MODEL'] == 880,\n",
    "               df_merge['MODEL'] == 881,\n",
    "               df_merge['MODEL'] == 882,\n",
    "               df_merge['MODEL'] == 883,\n",
    "               df_merge['MODEL'] == 884,\n",
    "               df_merge['MODEL'] == 890,\n",
    "               df_merge['MODEL'] == 898,\n",
    "               (df_merge['MODEL'] >= 901) & (df_merge['MODEL'] <= 908),\n",
    "               (df_merge['MODEL'] >= 981) & (df_merge['MODEL'] <= 987),\n",
    "               df_merge['MODEL'] == 988,\n",
    "               df_merge['MODEL'] == 989,\n",
    "               df_merge['MODEL'] == 997,\n",
    "               df_merge['MODEL'] == 998]\n",
    "model_names = [\"Automobiles\",\n",
    "            \"Other(Autos)\",\n",
    "            \"Unknown (Autos)\",\n",
    "            \"Light Trucks\",\n",
    "            \"Other (Light Trucks)\",\n",
    "            \"Unknown (LT)\",\n",
    "            \"Other (LSV or NEV)\",\n",
    "            \"Unknown (LSV OR NEV)\",\n",
    "            \"Motorcycles\",\n",
    "            \"Electric Motorcycle\",\n",
    "            \"Unknown cc (Motorcycles)\",\n",
    "            \"All-Terrain Vehicles\",\n",
    "            \"Unknown cc (ATV)\"\n",
    "            \"Unkown (motored cycle)\",\n",
    "            \"Other Make (Med/Heavy Trucks)\",\n",
    "            \"Motor Home\",\n",
    "            \"Med/Heavy Van-Based Vehicle\",\n",
    "            \"Med/Heavy Pickup\",\n",
    "            \"Med/Heavy Trucks - CBE\",\n",
    "            \"Med/Heavy Trucks - COE\",\n",
    "            \"Med/Heavy Trucks - COE (low entry)\",\n",
    "            \"Med/Heavy Trucks - COE (high entry)\",\n",
    "            \"Med/Heavy Trucks - Unknown engine location\",\n",
    "            \"Med/Heavy Trucks - COE (entry position unknown)\",\n",
    "            \"Other (Med/Heavy Trucks)\",\n",
    "            \"Other Make (Buses)\",\n",
    "            \"Buses\",\n",
    "            \"Other (Bus)\",\n",
    "            \"Unknown (Bus)\",\n",
    "            \"Not Reported\",\n",
    "            \"Other (Vehicle)\"]\n",
    "model_out = [\n",
    "0,\n",
    "1,\n",
    "2,\n",
    "3,\n",
    "4,\n",
    "5,\n",
    "6,\n",
    "7,\n",
    "8,\n",
    "9,\n",
    "10,\n",
    "11,\n",
    "12,\n",
    "13,\n",
    "14,\n",
    "15,\n",
    "16,\n",
    "17,\n",
    "18,\n",
    "19,\n",
    "20,\n",
    "21,\n",
    "22,\n",
    "23,\n",
    "24,\n",
    "25,\n",
    "26,\n",
    "27,\n",
    "28,\n",
    "29\n",
    "]\n",
    "\n",
    "print(len(model_conds))\n",
    "print(len(model_out))\n",
    "\n",
    "df_merge[\"MODEL_TRANS\"] = np.select(model_conds, model_out, default=np.nan)\n",
    "print(df_merge[\"MODEL_TRANS\"])\n",
    "\n",
    "print(df_merge.isnull().sum())\n",
    "print(df_merge.loc[df_merge[\"MODEL_TRANS\"].isin([np.nan])])"
   ]
  },
  {
   "cell_type": "code",
   "execution_count": 23,
   "metadata": {},
   "outputs": [
    {
     "data": {
      "image/png": "[encoded data removed]",
      "text/plain": [
       "<Figure size 432x288 with 1 Axes>"
      ]
     },
     "metadata": {
      "needs_background": "light"
     },
     "output_type": "display_data"
    },
    {
     "data": {
      "image/png": "[encoded data removed]",
      "text/plain": [
       "<Figure size 432x288 with 1 Axes>"
      ]
     },
     "metadata": {
      "needs_background": "light"
     },
     "output_type": "display_data"
    },
    {
     "data": {
      "image/png": "[encoded data removed]",
      "text/plain": [
       "<Figure size 432x288 with 1 Axes>"
      ]
     },
     "metadata": {
      "needs_background": "light"
     },
     "output_type": "display_data"
    },
    {
     "data": {
      "image/png": "[encoded data removed]",
      "text/plain": [
       "<Figure size 432x288 with 1 Axes>"
      ]
     },
     "metadata": {
      "needs_background": "light"
     },
     "output_type": "display_data"
    },
    {
     "data": {
      "image/png": "[encoded data removed]",
      "text/plain": [
       "<Figure size 432x288 with 1 Axes>"
      ]
     },
     "metadata": {
      "needs_background": "light"
     },
     "output_type": "display_data"
    },
    {
     "data": {
      "image/png": "[encoded data removed]",
      "text/plain": [
       "<Figure size 432x288 with 1 Axes>"
      ]
     },
     "metadata": {
      "needs_background": "light"
     },
     "output_type": "display_data"
    },
    {
     "data": {
      "image/png": "[encoded data removed]",
      "text/plain": [
       "<Figure size 432x288 with 1 Axes>"
      ]
     },
     "metadata": {
      "needs_background": "light"
     },
     "output_type": "display_data"
    },
    {
     "data": {
      "image/png": "[encoded data removed]",
      "text/plain": [
       "<Figure size 432x288 with 1 Axes>"
      ]
     },
     "metadata": {
      "needs_background": "light"
     },
     "output_type": "display_data"
    },
    {
     "data": {
      "image/png": "[encoded data removed]",
      "text/plain": [
       "<Figure size 432x288 with 1 Axes>"
      ]
     },
     "metadata": {
      "needs_background": "light"
     },
     "output_type": "display_data"
    }
   ],
   "source": [
    "#Lets look at a historgram of each\n",
    "import matplotlib.pyplot as plt\n",
    "%matplotlib inline\n",
    "for col in df_merge:\n",
    "    df_merge.hist(column=col)"
   ]
  },
  {
   "cell_type": "code",
   "execution_count": 24,
   "metadata": {},
   "outputs": [
    {
     "data": {
      "text/plain": [
       "STATE           object\n",
       "ST_CASE         object\n",
       "FATALS           int64\n",
       "MAKE            object\n",
       "MODEL           object\n",
       "MOD_YEAR         int64\n",
       "MAK_MOD          int64\n",
       "MULTI_FATAL      int32\n",
       "MODEL_TRANS    float64\n",
       "dtype: object"
      ]
     },
     "execution_count": 24,
     "metadata": {},
     "output_type": "execute_result"
    }
   ],
   "source": [
    "df_merge.astype({'STATE':'str', 'ST_CASE':'str', 'MAKE':'str', 'MODEL':'str'}).dtypes"
   ]
  },
  {
   "cell_type": "code",
   "execution_count": 25,
   "metadata": {},
   "outputs": [
    {
     "name": "stdout",
     "output_type": "stream",
     "text": [
      "395835\n",
      "33332\n",
      "33332\n"
     ]
    }
   ],
   "source": [
    "df_merge_1fatal = df_merge.loc[df_merge['MULTI_FATAL'] == False]\n",
    "print(len(df_merge_1fatal))\n",
    "df_merge_Nfatal = df_merge.loc[df_merge['MULTI_FATAL'] == True]\n",
    "print(len(df_merge_Nfatal))\n",
    "\n",
    "df_merge_1fatal_sample = df_merge_1fatal.sample(n=len(df_merge_Nfatal), replace=False)\n",
    "print(len(df_merge_1fatal_sample))"
   ]
  },
  {
   "cell_type": "code",
   "execution_count": 26,
   "metadata": {},
   "outputs": [
    {
     "name": "stdout",
     "output_type": "stream",
     "text": [
      "        STATE  ST_CASE  FATALS  MAKE  MODEL  MOD_YEAR  MAK_MOD  MULTI_FATAL  \\\n",
      "169581     48   482077       3    37     32      2010    37032         True   \n",
      "387193      6    60841       2    37     32      2001    37032         True   \n",
      "14819      26   260202       2    12     23      2008    12023         True   \n",
      "261081      8    80328       1    12    401      2016    12401        False   \n",
      "443016      1    10940       2    12    422      2001    12422         True   \n",
      "\n",
      "        MODEL_TRANS  \n",
      "169581          0.0  \n",
      "387193          0.0  \n",
      "14819           0.0  \n",
      "261081          3.0  \n",
      "443016          3.0  \n",
      "66664\n"
     ]
    }
   ],
   "source": [
    "df_merge_1fatal_sample_rebrand = df_merge_1fatal_sample.copy()\n",
    "df_merge_1fatal_sample_rebrand['MULTI_FATAL'] = False\n",
    "\n",
    "df_merge_Nfatal_rebrand = df_merge_Nfatal.copy()\n",
    "df_merge_Nfatal_rebrand['MULTI_FATAL'] = True\n",
    "\n",
    "frames = [df_merge_Nfatal_rebrand, df_merge_1fatal_sample_rebrand]\n",
    "\n",
    "df_merge_concat = pd.concat(frames).sample(frac=1)\n",
    "print(df_merge_concat.head())\n",
    "print(len(df_merge_concat))"
   ]
  },
  {
   "cell_type": "code",
   "execution_count": 10,
   "metadata": {},
   "outputs": [],
   "source": [
    "## Address the 9999 unknown values"
   ]
  },
  {
   "cell_type": "code",
   "execution_count": 29,
   "metadata": {},
   "outputs": [
    {
     "name": "stdout",
     "output_type": "stream",
     "text": [
      "[[4385 5555]\n",
      " [4421 5639]]\n",
      "              precision    recall  f1-score   support\n",
      "\n",
      "       False       0.50      0.44      0.47      9940\n",
      "        True       0.50      0.56      0.53     10060\n",
      "\n",
      "    accuracy                           0.50     20000\n",
      "   macro avg       0.50      0.50      0.50     20000\n",
      "weighted avg       0.50      0.50      0.50     20000\n",
      "\n",
      "Accuracy: 0.5012\n"
     ]
    }
   ],
   "source": [
    "# - https://stackabuse.com/implementing-svm-and-kernel-svm-with-pythons-scikit-learn/\n",
    "# Try and use an SVM# Import train_test_split function\n",
    "from sklearn.model_selection import train_test_split\n",
    "\n",
    "X=df_merge_concat[['MAKE', 'MODEL_TRANS', 'MOD_YEAR']]  # Features\n",
    "y=df_merge_concat['MULTI_FATAL']  # Labels\n",
    "\n",
    "# Split dataset into training set and test set\n",
    "X_train, X_test, y_train, y_test = train_test_split(X, y, test_size=0.3) # 70% training and 30% test\n",
    "\n",
    "from sklearn.svm import SVC\n",
    "svclassifier = SVC(kernel='linear')\n",
    "\n",
    "#Train the model using the training sets y_pred=clf.predict(X_test)\n",
    "svclassifier.fit(X_train, y_train)\n",
    "\n",
    "y_pred = svclassifier.predict(X_test)\n",
    "\n",
    "from sklearn.metrics import classification_report, confusion_matrix, accuracy_score\n",
    "print(confusion_matrix(y_test,y_pred))\n",
    "print(classification_report(y_test,y_pred))\n",
    "print(\"Accuracy:\",accuracy_score(y_test, y_pred))"
   ]
  },
  {
   "cell_type": "code",
   "execution_count": 30,
   "metadata": {},
   "outputs": [
    {
     "data": {
      "text/plain": [
       "['finalized_model.sav']"
      ]
     },
     "execution_count": 30,
     "metadata": {},
     "output_type": "execute_result"
    }
   ],
   "source": [
    "# Attempt to export model, then reload it and use it to predict a value\n",
    "#  https://machinelearningmastery.com/save-load-machine-learning-models-python-scikit-learn/\n",
    "# save the model to disk\n",
    "filename = 'finalized_model.sav'\n",
    "joblib.dump(svclassifier, filename)"
   ]
  },
  {
   "cell_type": "code",
   "execution_count": 32,
   "metadata": {},
   "outputs": [
    {
     "data": {
      "text/plain": [
       "array([False])"
      ]
     },
     "execution_count": 32,
     "metadata": {},
     "output_type": "execute_result"
    }
   ],
   "source": [
    "# load the model from disk\n",
    "loaded_model = joblib.load(filename)\n",
    "# result = loaded_model.score(X_test, y_test)\n",
    "# print(result)\n",
    "loaded_model.predict([[12, 3, 1997]])"
   ]
  },
  {
   "cell_type": "code",
   "execution_count": 24,
   "metadata": {},
   "outputs": [
    {
     "name": "stdout",
     "output_type": "stream",
     "text": [
      "[[25436    13]\n",
      " [ 8541     6]]\n",
      "              precision    recall  f1-score   support\n",
      "\n",
      "       False       0.75      1.00      0.86     25449\n",
      "        True       0.32      0.00      0.00      8547\n",
      "\n",
      "    accuracy                           0.75     33996\n",
      "   macro avg       0.53      0.50      0.43     33996\n",
      "weighted avg       0.64      0.75      0.64     33996\n",
      "\n",
      "Accuracy: 0.7483821626073656\n"
     ]
    }
   ],
   "source": [
    "# - https://stackabuse.com/implementing-svm-and-kernel-svm-with-pythons-scikit-learn/\n",
    "# Try and use an SVM# Import train_test_split function\n",
    "from sklearn.model_selection import train_test_split\n",
    "\n",
    "X=df_merge_concat[['MAKE', 'MODEL', 'MOD_YEAR']]  # Features\n",
    "y=df_merge_concat['MULTI_FATAL']  # Labels\n",
    "\n",
    "# Split dataset into training set and test set\n",
    "X_train, X_test, y_train, y_test = train_test_split(X, y, test_size=0.25) # 80% training and 20% test\n",
    "\n",
    "from sklearn.svm import SVC\n",
    "svclassifier = SVC(kernel='linear')\n",
    "\n",
    "#Train the model using the training sets y_pred=clf.predict(X_test)\n",
    "svclassifier.fit(X_train, y_train)\n",
    "\n",
    "y_pred = svclassifier.predict(X_test)\n",
    "\n",
    "from sklearn.metrics import classification_report, confusion_matrix, accuracy_score\n",
    "print(confusion_matrix(y_test,y_pred))\n",
    "print(classification_report(y_test,y_pred))\n",
    "print(\"Accuracy:\",accuracy_score(y_test, y_pred))"
   ]
  },
  {
   "cell_type": "code",
   "execution_count": 1,
   "metadata": {},
   "outputs": [],
   "source": [
    "# https://stackabuse.com/scikit-learn-save-and-restore-models/\n",
    "# https://scikit-learn.org/stable/modules/preprocessing.html#encoding-categorical-features"
   ]
  },
  {
   "cell_type": "code",
   "execution_count": 50,
   "metadata": {},
   "outputs": [
    {
     "name": "stdout",
     "output_type": "stream",
     "text": [
      "[[4481 5519]\n",
      " [4594 5458]]\n",
      "              precision    recall  f1-score   support\n",
      "\n",
      "       False       0.49      0.45      0.47     10000\n",
      "        True       0.50      0.54      0.52     10052\n",
      "\n",
      "    accuracy                           0.50     20052\n",
      "   macro avg       0.50      0.50      0.49     20052\n",
      "weighted avg       0.50      0.50      0.49     20052\n",
      "\n",
      "Accuracy: 0.49566128067025733\n"
     ]
    }
   ],
   "source": [
    "# What happens if we don't recode make and model as strings? This is a litmus test for recoding categoricals\n",
    "from sklearn.model_selection import train_test_split\n",
    "\n",
    "X=df_merge_concat[['MAKE', 'MODEL_TRANS', 'MOD_YEAR']]  # Features\n",
    "y=df_merge_concat['MULTI_FATAL']  # Labels\n",
    "\n",
    "# Split dataset into training set and test set\n",
    "X_train, X_test, y_train, y_test = train_test_split(X, y, test_size=0.3) # 70% training and 30% test\n",
    "\n",
    "from sklearn.svm import SVC\n",
    "svclassifier = SVC(kernel='linear', C=2.0)\n",
    "# from sklearn.svm import LinearSVC\n",
    "# svclassifier = LinearSVC()\n",
    "\n",
    "\n",
    "#Train the model using the training sets y_pred=clf.predict(X_test)\n",
    "svclassifier.fit(X_train, y_train)\n",
    "\n",
    "y_pred = svclassifier.predict(X_test)\n",
    "\n",
    "from sklearn.metrics import classification_report, confusion_matrix, accuracy_score\n",
    "print(confusion_matrix(y_test,y_pred))\n",
    "print(classification_report(y_test,y_pred))\n",
    "print(\"Accuracy:\",accuracy_score(y_test, y_pred))"
   ]
  },
  {
   "cell_type": "code",
   "execution_count": 21,
   "metadata": {},
   "outputs": [
    {
     "name": "stdout",
     "output_type": "stream",
     "text": [
      "[[5038 5197]\n",
      " [5283 4880]]\n",
      "              precision    recall  f1-score   support\n",
      "\n",
      "       False       0.49      0.49      0.49     10235\n",
      "        True       0.48      0.48      0.48     10163\n",
      "\n",
      "    accuracy                           0.49     20398\n",
      "   macro avg       0.49      0.49      0.49     20398\n",
      "weighted avg       0.49      0.49      0.49     20398\n",
      "\n",
      "Accuracy: 0.48622413962153155\n"
     ]
    }
   ],
   "source": [
    "# Attempting to use OneHotEncoder\n",
    "# https://scikit-learn.org/stable/modules/preprocessing.html#encoding-categorical-features\n",
    "from sklearn.model_selection import train_test_split\n",
    "\n",
    "X=df_merge_concat[['MAKE', 'MOD_YEAR']]  # Features\n",
    "y=df_merge_concat['MULTI_FATAL']  # Labels\n",
    "\n",
    "# Make and encode our make and model data\n",
    "#   Once the data is completely translated with models we gotta do an ordinalEncoder to rebrand it\n",
    "# from sklearn.preprocessing import OneHotEncoder\n",
    "# makeEnc = OneHotEncoder()\n",
    "# makeEnc.fit(X)\n",
    "\n",
    "# Split dataset into training set and test set\n",
    "X_train, X_test, y_train, y_test = train_test_split(X, y, test_size=0.3) # 70% training and 30% test\n",
    "\n",
    "from sklearn.svm import SVC\n",
    "svclassifier = SVC(kernel='linear')\n",
    "\n",
    "#Train the model using the training sets y_pred=clf.predict(X_test)\n",
    "svclassifier.fit(X_train, y_train)\n",
    "\n",
    "y_pred = svclassifier.predict(X_test)\n",
    "\n",
    "from sklearn.metrics import classification_report, confusion_matrix, accuracy_score\n",
    "print(confusion_matrix(y_test,y_pred))\n",
    "print(classification_report(y_test,y_pred))\n",
    "print(\"Accuracy:\",accuracy_score(y_test, y_pred))"
   ]
  },
  {
   "cell_type": "code",
   "execution_count": 34,
   "metadata": {},
   "outputs": [
    {
     "name": "stdout",
     "output_type": "stream",
     "text": [
      "<datalist>\n",
      "<option value =\"American Motors\">\n",
      "<option value =\"Jeep/Kaiser-Jeep/Willys Jeep\">\n",
      "<option value =\"AM General\">\n",
      "<option value =\"Chrysler\">\n",
      "<option value =\"Dodge\">\n",
      "<option value =\"Plymouth\">\n",
      "<option value =\"Eagle\">\n",
      "<option value =\"Ford\">\n",
      "<option value =\"Lincoln\">\n",
      "<option value =\"Mercury\">\n",
      "<option value =\"Buick/Opel\">\n",
      "<option value =\"Cadillac\">\n",
      "<option value =\"Chevrolet\">\n",
      "<option value =\"Oldsmobile\">\n",
      "<option value =\"Pontiac\">\n",
      "<option value =\"GMC\">\n",
      "<option value =\"Saturn\">\n",
      "<option value =\"Grumman\">\n",
      "<option value =\"Other Domestic\">\n",
      "<option value =\"Volkswagon\">\n",
      "<option value =\"Audi\">\n",
      "<option value =\"Austin/Austin-Healey\">\n",
      "<option value =\"BMW\">\n",
      "<option value =\"Datsun/Nissan\">\n",
      "<option value =\"Fiat\">\n",
      "<option value =\"Honda\">\n",
      "<option value =\"Isuzu\">\n",
      "<option value =\"Jaguar\">\n",
      "<option value =\"Mazda\">\n",
      "<option value =\"Mercedes-Benz\">\n",
      "<option value =\"MG\">\n",
      "<option value =\"Porsche\">\n",
      "<option value =\"Saab\">\n",
      "<option value =\"Subaru\">\n",
      "<option value =\"Toyota\">\n",
      "<option value =\"Triumph\">\n",
      "<option value =\"Volvo\">\n",
      "<option value =\"Mitsubishi\">\n",
      "<option value =\"Suzuki\">\n",
      "<option value =\"Acura\">\n",
      "<option value =\"Hyundai\">\n",
      "<option value =\"Infiniti\">\n",
      "<option value =\"Lexus\">\n",
      "<option value =\"Land Rover\">\n",
      "<option value =\"Kia\">\n",
      "<option value =\"Daewoo\">\n",
      "<option value =\"Smart\">\n",
      "<option value =\"Scion\">\n",
      "<option value =\"Other Imports\">\n",
      "<option value =\"Ducati\">\n",
      "<option value =\"Harley-Davidson\">\n",
      "<option value =\"Kawasaki\">\n",
      "<option value =\"Moto Guzzi\">\n",
      "<option value =\"Yamaha\">\n",
      "<option value =\"Victory\">\n",
      "<option value =\"Freightliner\">\n",
      "<option value =\"International Harvester/Navistar\">\n",
      "<option value =\"Kenworth\">\n",
      "<option value =\"Mack\">\n",
      "<option value =\"Peterbilt\">\n",
      "<option value =\"White/Autocar, White/GMC\">\n",
      "<option value =\"Bluebird\">\n",
      "<option value =\"Gillig\">\n",
      "<option value =\"MCI\">\n",
      "<option value =\"Thomas Built\">\n",
      "</datalist>\n",
      "{1: '', 2: '', 3: '', 6: '', 7: '', 9: '', 10: '', 12: '', 13: '', 14: '', 18: '', 19: '', 20: '', 21: '', 22: '', 23: '', 24: '', 25: '', 29: '', 30: '', 32: '', 33: '', 34: '', 35: '', 36: '', 37: '', 38: '', 39: '', 41: '', 42: '', 43: '', 45: '', 47: '', 48: '', 49: '', 50: '', 51: '', 52: '', 53: '', 54: '', 55: '', 58: '', 59: '', 62: '', 63: '', 64: '', 65: '', 67: '', 69: '', 71: '', 72: '', 73: '', 74: '', 76: '', 77: '', 82: '', 84: '', 85: '', 86: '', 87: '', 89: '', 90: '', 92: '', 93: '', 94: ''}\n"
     ]
    }
   ],
   "source": [
    "make_numbers = {\n",
    "    1:\"American Motors\",\n",
    "    2:\"Jeep/Kaiser-Jeep/Willys Jeep\",\n",
    "    3:\"AM General\",\n",
    "    6:\"Chrysler\",\n",
    "    7:\"Dodge\",\n",
    "    8:\"Imperial\",\n",
    "    9:\"Plymouth\",\n",
    "    10:\"Eagle\",\n",
    "    12:\"Ford\",\n",
    "    13:\"Lincoln\",\n",
    "    14:\"Mercury\",\n",
    "    18:\"Buick/Opel\",\n",
    "    19:\"Cadillac\",\n",
    "    20:\"Chevrolet\",\n",
    "    21:\"Oldsmobile\",\n",
    "    22:\"Pontiac\",\n",
    "    23:\"GMC\",\n",
    "    24:\"Saturn\",\n",
    "    25:\"Grumman\",\n",
    "    26:\"Coda\",\n",
    "    29:\"Other Domestic\",\n",
    "    30:\"Volkswagon\",\n",
    "    31:\"Alfa Romeo\",\n",
    "    32:\"Audi\",\n",
    "    33:\"Austin/Austin-Healey\",\n",
    "    34:\"BMW\",\n",
    "    35:\"Datsun/Nissan\",\n",
    "    36:\"Fiat\",\n",
    "    37:\"Honda\",\n",
    "    38:\"Isuzu\",\n",
    "    39:\"Jaguar\",\n",
    "    40:\"Lancia\",\n",
    "    41:\"Mazda\",\n",
    "    42:\"Mercedes-Benz\",\n",
    "    43:\"MG\",\n",
    "    44:\"Peugeot\",\n",
    "    45:\"Porsche\",\n",
    "    46:\"Renault\",\n",
    "    47:\"Saab\",\n",
    "    48:\"Subaru\",\n",
    "    49:\"Toyota\",\n",
    "    50:\"Triumph\",\n",
    "    51:\"Volvo\",\n",
    "    52:\"Mitsubishi\",\n",
    "    53:\"Suzuki\",\n",
    "    54:\"Acura\",\n",
    "    55:\"Hyundai\",\n",
    "    56:\"Merkur\",\n",
    "    57:\"Yugo\",\n",
    "    58:\"Infiniti\",\n",
    "    59:\"Lexus\",\n",
    "    60:\"Daihatsu\",\n",
    "    62:\"Land Rover\",\n",
    "    63:\"Kia\",\n",
    "    64:\"Daewoo\",\n",
    "    65:\"Smart\",\n",
    "    66:\"Mahindra\",\n",
    "    67:\"Scion\",\n",
    "    69:\"Other Imports\",\n",
    "    70:\"BSA\",\n",
    "    71:\"Ducati\",\n",
    "    72:\"Harley-Davidson\",\n",
    "    73:\"Kawasaki\",\n",
    "    74:\"Moto Guzzi\",\n",
    "    75:\"Norton\",\n",
    "    76:\"Yamaha\",\n",
    "    77:\"Victory\",\n",
    "    78:\"Other Make Moped\",\n",
    "    79:\"Other Make Motored Cycle\",\n",
    "    80:\"Brockway\",\n",
    "    81:\"Diamond Reo/Reo\",\n",
    "    82:\"Freightliner\",\n",
    "    83:\"FWD\",\n",
    "    84:\"International Harvester/Navistar\",\n",
    "    85:\"Kenworth\",\n",
    "    86:\"Mack\",\n",
    "    87:\"Peterbilt\",\n",
    "    88:\"Iveco/Magirus\",\n",
    "    89:\"White/Autocar, White/GMC\",\n",
    "    90:\"Bluebird\",\n",
    "    91:\"Eagle Coach\",\n",
    "    92:\"Gillig\",\n",
    "    93:\"MCI\",\n",
    "    94:\"Thomas Built\",\n",
    "    97:\"Not Reported\",\n",
    "    98:\"Other Make\",\n",
    "    99:\"Unknown\"\n",
    "}\n",
    "\n",
    "#print(sorted(df_merge[\"MAKE\"].unique()))\n",
    "make_list = []\n",
    "make_dict = {}\n",
    "make_list.append(\"<datalist>\")\n",
    "for make in sorted(df_merge[\"MAKE\"].unique()):\n",
    "    make_list.append('<option value =\"' + str(make_numbers[make]) + '\">')\n",
    "    make_dict[make] = \"\"\n",
    "make_list.append(\"</datalist>\")\n",
    "# print(make_list)\n",
    "print(\"\\n\".join(make_list))\n",
    "print(make_dict)"
   ]
  },
  {
   "cell_type": "code",
   "execution_count": 57,
   "metadata": {
    "collapsed": true
   },
   "outputs": [
    {
     "name": "stdout",
     "output_type": "stream",
     "text": [
      "<datalist>\n",
      "<option value =\"All-Terrain Vehicles\">\n",
      "<option value =\"Automobiles\">\n",
      "<option value =\"Buses\">\n",
      "<option value =\"Light Trucks\">\n",
      "<option value =\"Med/Heavy Pickup\">\n",
      "<option value =\"Med/Heavy Trucks - CBE\">\n",
      "<option value =\"Med/Heavy Trucks - COE\">\n",
      "<option value =\"Med/Heavy Trucks - COE (entry position unknown)\">\n",
      "<option value =\"Med/Heavy Trucks - COE (high entry)\">\n",
      "<option value =\"Med/Heavy Trucks - COE (low entry)\">\n",
      "<option value =\"Med/Heavy Trucks - Unknown engine location\">\n",
      "<option value =\"Med/Heavy Van-Based Vehicle\">\n",
      "<option value =\"Motorcycles\">\n",
      "<option value =\"Other (Bus)\">\n",
      "<option value =\"Other (Light Trucks)\">\n",
      "<option value =\"Other (Med/Heavy Trucks)\">\n",
      "<option value =\"Other (Vehicle)\">\n",
      "<option value =\"Other Make (Med/Heavy Trucks)\">\n",
      "<option value =\"Other(Autos)\">\n",
      "<option value =\"Unknown (Autos)\">\n",
      "<option value =\"Unknown (Bus)\">\n",
      "<option value =\"Unknown (LT)\">\n",
      "<option value =\"Unknown cc (ATV)Unkown (motored cycle)\">\n",
      "<option value =\"Unknown cc (Motorcycles)\">\n",
      "</datalist>\n",
      "{'All-Terrain Vehicles': '', 'Automobiles': '', 'Buses': '', 'Light Trucks': '', 'Med/Heavy Pickup': '', 'Med/Heavy Trucks - CBE': '', 'Med/Heavy Trucks - COE': '', 'Med/Heavy Trucks - COE (entry position unknown)': '', 'Med/Heavy Trucks - COE (high entry)': '', 'Med/Heavy Trucks - COE (low entry)': '', 'Med/Heavy Trucks - Unknown engine location': '', 'Med/Heavy Van-Based Vehicle': '', 'Motorcycles': '', 'Other (Bus)': '', 'Other (Light Trucks)': '', 'Other (Med/Heavy Trucks)': '', 'Other (Vehicle)': '', 'Other Make (Med/Heavy Trucks)': '', 'Other(Autos)': '', 'Unknown (Autos)': '', 'Unknown (Bus)': '', 'Unknown (LT)': '', 'Unknown cc (ATV)Unkown (motored cycle)': '', 'Unknown cc (Motorcycles)': ''}\n"
     ]
    }
   ],
   "source": [
    "#print(sorted(df_merge[\"MAKE\"].unique()))\n",
    "model_list = []\n",
    "model_dict = {}\n",
    "model_list.append(\"<datalist>\")\n",
    "for model in sorted(df_merge[\"MODEL_TRANS\"].unique()):\n",
    "    model_list.append('<option value =\"' + str(model) + '\">')\n",
    "    model_dict[model] = \"\"\n",
    "model_list.append(\"</datalist>\")\n",
    "# print(make_list)\n",
    "print(\"\\n\".join(model_list))\n",
    "print(model_dict)"
   ]
  },
  {
   "cell_type": "code",
   "execution_count": 30,
   "metadata": {},
   "outputs": [
    {
     "name": "stdout",
     "output_type": "stream",
     "text": [
      "48   10.079759161352108\n",
      "47   2.7949492854762834\n",
      "12   8.414906085509836\n",
      "13   4.301355882442033\n",
      "40   1.838911193078685\n",
      "53   1.5460182166848804\n",
      "37   3.9460163526086585\n",
      "17   2.845046333944595\n",
      "28   1.8032607353314678\n",
      "18   2.351066135094264\n",
      "51   2.1175905882791546\n",
      "26   2.8816288298028505\n",
      "29   2.498328156638325\n",
      "36   2.7651240659230556\n",
      "10   0.34951429163938513\n",
      "22   2.077745959032265\n",
      "6   9.734905060267915\n",
      "27   1.1023680758306207\n",
      "49   0.7945624896602022\n",
      "42   3.3898226098465165\n",
      "1   2.477823318195481\n",
      "34   1.5919210936535195\n",
      "45   2.7392600083417413\n",
      "8   1.7172802195881791\n",
      "19   0.8849701864309232\n",
      "39   3.2283470071091203\n",
      "21   2.2103283803274714\n",
      "25   0.8891643579305959\n",
      "41   1.223300020737848\n",
      "24   1.485202729939627\n",
      "20   1.0501739416124725\n",
      "55   1.6017074938194222\n",
      "16   0.6055917626471746\n",
      "30   0.46089284590846924\n",
      "23   0.4194171499672622\n",
      "32   0.905009005818248\n",
      "9   0.7731256131063199\n",
      "4   2.4156097742836704\n",
      "5   1.4656299296078217\n",
      "38   0.29568909072691985\n",
      "35   0.8875332912362786\n",
      "15   0.25258232809139564\n",
      "31   0.6279606773120953\n",
      "46   0.3036114146707459\n",
      "54   0.7165042978607395\n",
      "33   0.29102890017172806\n",
      "44   0.1367765927948794\n",
      "2   0.1831454888190378\n",
      "56   0.3150288815309658\n",
      "50   0.1523882311547719\n",
      "11   0.060116458161974244\n",
      "99.99999999999996\n",
      "{48: 10.079759161352108, 47: 2.7949492854762834, 12: 8.414906085509836, 13: 4.301355882442033, 40: 1.838911193078685, 53: 1.5460182166848804, 37: 3.9460163526086585, 17: 2.845046333944595, 28: 1.8032607353314678, 18: 2.351066135094264, 51: 2.1175905882791546, 26: 2.8816288298028505, 29: 2.498328156638325, 36: 2.7651240659230556, 10: 0.34951429163938513, 22: 2.077745959032265, 6: 9.734905060267915, 27: 1.1023680758306207, 49: 0.7945624896602022, 42: 3.3898226098465165, 1: 2.477823318195481, 34: 1.5919210936535195, 45: 2.7392600083417413, 8: 1.7172802195881791, 19: 0.8849701864309232, 39: 3.2283470071091203, 21: 2.2103283803274714, 25: 0.8891643579305959, 41: 1.223300020737848, 24: 1.485202729939627, 20: 1.0501739416124725, 55: 1.6017074938194222, 16: 0.6055917626471746, 30: 0.46089284590846924, 23: 0.4194171499672622, 32: 0.905009005818248, 9: 0.7731256131063199, 4: 2.4156097742836704, 5: 1.4656299296078217, 38: 0.29568909072691985, 35: 0.8875332912362786, 15: 0.25258232809139564, 31: 0.6279606773120953, 46: 0.3036114146707459, 54: 0.7165042978607395, 33: 0.29102890017172806, 44: 0.1367765927948794, 2: 0.1831454888190378, 56: 0.3150288815309658, 50: 0.1523882311547719, 11: 0.060116458161974244}\n",
      "{\n",
      "1: 2.477823318195481 ,\n",
      "2: 0.1831454888190378 ,\n",
      "4: 2.4156097742836704 ,\n",
      "5: 1.4656299296078217 ,\n",
      "6: 9.734905060267915 ,\n",
      "8: 1.7172802195881791 ,\n",
      "9: 0.7731256131063199 ,\n",
      "10: 0.34951429163938513 ,\n",
      "11: 0.060116458161974244 ,\n",
      "12: 8.414906085509836 ,\n",
      "13: 4.301355882442033 ,\n",
      "15: 0.25258232809139564 ,\n",
      "16: 0.6055917626471746 ,\n",
      "17: 2.845046333944595 ,\n",
      "18: 2.351066135094264 ,\n",
      "19: 0.8849701864309232 ,\n",
      "20: 1.0501739416124725 ,\n",
      "21: 2.2103283803274714 ,\n",
      "22: 2.077745959032265 ,\n",
      "23: 0.4194171499672622 ,\n",
      "24: 1.485202729939627 ,\n",
      "25: 0.8891643579305959 ,\n",
      "26: 2.8816288298028505 ,\n",
      "27: 1.1023680758306207 ,\n",
      "28: 1.8032607353314678 ,\n",
      "29: 2.498328156638325 ,\n",
      "30: 0.46089284590846924 ,\n",
      "31: 0.6279606773120953 ,\n",
      "32: 0.905009005818248 ,\n",
      "33: 0.29102890017172806 ,\n",
      "34: 1.5919210936535195 ,\n",
      "35: 0.8875332912362786 ,\n",
      "36: 2.7651240659230556 ,\n",
      "37: 3.9460163526086585 ,\n",
      "38: 0.29568909072691985 ,\n",
      "39: 3.2283470071091203 ,\n",
      "40: 1.838911193078685 ,\n",
      "41: 1.223300020737848 ,\n",
      "42: 3.3898226098465165 ,\n",
      "44: 0.1367765927948794 ,\n",
      "45: 2.7392600083417413 ,\n",
      "46: 0.3036114146707459 ,\n",
      "47: 2.7949492854762834 ,\n",
      "48: 10.079759161352108 ,\n",
      "49: 0.7945624896602022 ,\n",
      "50: 0.1523882311547719 ,\n",
      "51: 2.1175905882791546 ,\n",
      "53: 1.5460182166848804 ,\n",
      "54: 0.7165042978607395 ,\n",
      "55: 1.6017074938194222 ,\n",
      "56: 0.3150288815309658 ,\n",
      "}\n",
      "0.8660124633158602\n"
     ]
    }
   ],
   "source": [
    "percentAcc = 0\n",
    "percentDict = {}\n",
    "for state in df_merge['STATE'].unique():\n",
    "    percent = len(df_merge.loc[df_merge['STATE'] == state]) / len(df_merge) * 100\n",
    "    percentAcc += percent\n",
    "    percentDict[state] = percent\n",
    "    print(state, \" \", percent)\n",
    "print(percentAcc)\n",
    "print(percentDict)\n",
    "\n",
    "percentAvg = 0\n",
    "\n",
    "print(\"{\")\n",
    "for key in sorted(percentDict):\n",
    "    print(\"%s: %s\" % (key, percentDict[key]), \",\")\n",
    "    percentAvg += percentDict[key]\n",
    "    percentAvg = percentAvg / 2\n",
    "print(\"}\")\n",
    "\n",
    "print(percentAvg)"
   ]
  },
  {
   "cell_type": "code",
   "execution_count": 24,
   "metadata": {},
   "outputs": [
    {
     "name": "stdout",
     "output_type": "stream",
     "text": [
      "{'AL': '1', 'AK': '2', 'AZ': '4', 'AR': '5', 'CA': '6', 'CO': '8', 'CT': '9', 'DE': '10', 'DC': '11', 'FL': '12', 'GA': '14', 'HI': '15', 'ID': '16', 'IL': '17', 'IN': '18', 'IA': '19', 'KS': '20', 'KY': '21', 'LA': '22', 'ME': '23', 'MD': '24', 'MA': '25', 'MI': '26', 'MN': '27', 'MS': '28', 'MO': '29', 'MT': '30', 'NE': '31', 'NV': '32', 'NH': '33', 'NJ': '34', 'NM': '35', 'NY': '36', 'NC': '37', 'ND': '38', 'OH': '39', 'OK': '40', 'OR': '41', 'PA': '42', 'RI': '44', 'SC': '45', 'SD': '46', 'TN': '47', 'TX': '48', 'UT': '49', 'VT': '50', 'VA': '51', 'WA': '53', 'WV': '54', 'WI': '55', 'WY': '56'}\n"
     ]
    }
   ],
   "source": [
    "stateDict = {\n",
    "\"1\" : \"AL\",\n",
    "\"2\" : \"AK\",\n",
    "\"4\" : \"AZ\",\n",
    "\"5\" : \"AR\",\n",
    "\"6\" : \"CA\",\n",
    "\"8\" : \"CO\",\n",
    "\"9\" : \"CT\",\n",
    "\"10\" : \"DE\",\n",
    "\"11\" : \"DC\",\n",
    "\"12\" : \"FL\",\n",
    "\"14\" : \"GA\",\n",
    "\"15\" : \"HI\",\n",
    "\"16\" : \"ID\",\n",
    "\"17\" : \"IL\",\n",
    "\"18\" : \"IN\",\n",
    "\"19\" : \"IA\",\n",
    "\"20\" : \"KS\",\n",
    "\"21\" : \"KY\",\n",
    "\"22\" : \"LA\",\n",
    "\"23\" : \"ME\",\n",
    "\"24\" : \"MD\",\n",
    "\"25\" : \"MA\",\n",
    "\"26\" : \"MI\",\n",
    "\"27\" : \"MN\",\n",
    "\"28\" : \"MS\",\n",
    "\"29\" : \"MO\",\n",
    "\"30\" : \"MT\",\n",
    "\"31\" : \"NE\",\n",
    "\"32\" : \"NV\",\n",
    "\"33\" : \"NH\",\n",
    "\"34\" : \"NJ\",\n",
    "\"35\" : \"NM\",\n",
    "\"36\" : \"NY\",\n",
    "\"37\" : \"NC\",\n",
    "\"38\" : \"ND\",\n",
    "\"39\" : \"OH\",\n",
    "\"40\" : \"OK\",\n",
    "\"41\" : \"OR\",\n",
    "\"42\" : \"PA\",\n",
    "\"44\" : \"RI\",\n",
    "\"45\" : \"SC\",\n",
    "\"46\" : \"SD\",\n",
    "\"47\" : \"TN\",\n",
    "\"48\" : \"TX\",\n",
    "\"49\" : \"UT\",\n",
    "\"50\" : \"VT\",\n",
    "\"51\" : \"VA\",\n",
    "\"53\" : \"WA\",\n",
    "\"54\" : \"WV\",\n",
    "\"55\" : \"WI\",\n",
    "\"56\" : \"WY\",\n",
    "}\n",
    "inv_map = {v: k for k, v in stateDict.items()}\n",
    "print(inv_map)"
   ]
  },
  {
   "cell_type": "code",
   "execution_count": null,
   "metadata": {},
   "outputs": [],
   "source": []
  }
 ],
 "metadata": {
  "kernelspec": {
   "display_name": "Python 3",
   "language": "python",
   "name": "python3"
  },
  "language_info": {
   "codemirror_mode": {
    "name": "ipython",
    "version": 3
   },
   "file_extension": ".py",
   "mimetype": "text/x-python",
   "name": "python",
   "nbconvert_exporter": "python",
   "pygments_lexer": "ipython3",
   "version": "3.7.4"
  }
 },
 "nbformat": 4,
 "nbformat_minor": 2
}
